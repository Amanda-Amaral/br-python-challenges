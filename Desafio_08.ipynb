{
 "cells": [
  {
   "cell_type": "markdown",
   "metadata": {
    "colab_type": "text",
    "id": "view-in-github"
   },
   "source": [
    "![](https://i.imgur.com/YX6UATs.png)"
   ]
  },
  {
   "cell_type": "markdown",
   "metadata": {
    "colab_type": "text",
    "id": "o3tkeMDNf6Jo"
   },
   "source": [
    "### Desafio 8\n",
    "\n",
    "Escreva um script Python para encontrar as 10 palavras mais longas em um arquivo de texto.\n",
    "O arquivo .txt está localizado na mesma pasta do projeto (**texto.txt**)."
   ]
  },
  {
   "cell_type": "code",
   "execution_count": 3,
   "metadata": {
    "colab": {},
    "colab_type": "code",
    "id": "EknxjSG0f6Jo"
   },
   "outputs": [],
   "source": [
    "with open(\"texto.txt\", \"r\") as f:\n",
    "    texto = f.read()"
   ]
  },
  {
   "cell_type": "code",
   "execution_count": 7,
   "metadata": {
    "colab": {},
    "colab_type": "code",
    "id": "ZYbqEWBG5nKx"
   },
   "outputs": [],
   "source": [
    "txt = sorted(list(texto.split(\" \")),key=len)"
   ]
  },
  {
   "cell_type": "code",
   "execution_count": 8,
   "metadata": {},
   "outputs": [
    {
     "data": {
      "text/plain": [
       "['',\n",
       " '',\n",
       " '',\n",
       " '',\n",
       " '',\n",
       " '',\n",
       " '',\n",
       " '',\n",
       " '',\n",
       " '',\n",
       " '',\n",
       " '',\n",
       " '',\n",
       " '',\n",
       " '',\n",
       " '',\n",
       " '',\n",
       " '',\n",
       " '',\n",
       " '',\n",
       " '',\n",
       " '',\n",
       " '',\n",
       " '',\n",
       " '',\n",
       " '',\n",
       " '',\n",
       " '',\n",
       " '',\n",
       " '',\n",
       " '',\n",
       " '',\n",
       " '',\n",
       " '',\n",
       " '',\n",
       " '',\n",
       " '',\n",
       " '',\n",
       " '',\n",
       " '',\n",
       " '',\n",
       " '',\n",
       " '',\n",
       " '',\n",
       " '',\n",
       " '',\n",
       " '',\n",
       " '',\n",
       " 'a',\n",
       " 'a',\n",
       " 'a',\n",
       " 'is',\n",
       " 'is',\n",
       " 'to',\n",
       " 'in',\n",
       " 'of',\n",
       " 'in',\n",
       " 'as',\n",
       " 'or',\n",
       " 'or',\n",
       " 'we',\n",
       " 'is',\n",
       " 'by',\n",
       " 'We',\n",
       " 'to',\n",
       " 'and',\n",
       " 'its',\n",
       " 'C++',\n",
       " 'and',\n",
       " 'and',\n",
       " 'and',\n",
       " 'has',\n",
       " 'and',\n",
       " 'way',\n",
       " 'and',\n",
       " 'for',\n",
       " 'who',\n",
       " 'are',\n",
       " 'What',\n",
       " 'used',\n",
       " 'code',\n",
       " 'code',\n",
       " 'than',\n",
       " 'such',\n",
       " 'type',\n",
       " 'best',\n",
       " 'have',\n",
       " 'this',\n",
       " 'with',\n",
       " 'fewer',\n",
       " 'lines',\n",
       " 'Java.',\n",
       " 'large',\n",
       " 'learn',\n",
       " 'those',\n",
       " 'Python',\n",
       " 'widely',\n",
       " 'design',\n",
       " 'syntax',\n",
       " 'allows',\n",
       " 'system',\n",
       " 'memory',\n",
       " '\\nPython',\n",
       " 'dynamic',\n",
       " 'express',\n",
       " '\\nPython',\n",
       " 'dynamic',\n",
       " 'started',\n",
       " 'section',\n",
       " 'Python.',\n",
       " 'concepts',\n",
       " 'possible',\n",
       " 'supports',\n",
       " 'multiple',\n",
       " 'features',\n",
       " 'standard',\n",
       " 'anything',\n",
       " 'practice',\n",
       " 'exercise',\n",
       " 'familiar',\n",
       " 'language?',\n",
       " 'including',\n",
       " 'styles.It',\n",
       " 'automatic',\n",
       " '(beginner',\n",
       " 'philosophy',\n",
       " 'emphasizes',\n",
       " '\\nlanguages',\n",
       " 'paradigms,',\n",
       " 'imperative',\n",
       " 'functional',\n",
       " 'procedural',\n",
       " 'management',\n",
       " 'questions.',\n",
       " 'high-level,',\n",
       " 'programming',\n",
       " 'programmers',\n",
       " 'programming',\n",
       " 'programming',\n",
       " 'library.The',\n",
       " 'interpreted,',\n",
       " 'language.Its',\n",
       " 'readability,',\n",
       " 'comprehensive',\n",
       " 'intermediate)',\n",
       " 'general-purpose,',\n",
       " 'object-oriented,']"
      ]
     },
     "execution_count": 8,
     "metadata": {},
     "output_type": "execute_result"
    }
   ],
   "source": [
    "txt"
   ]
  },
  {
   "cell_type": "code",
   "execution_count": null,
   "metadata": {},
   "outputs": [],
   "source": []
  }
 ],
 "metadata": {
  "anaconda-cloud": {},
  "colab": {
   "include_colab_link": true,
   "name": "Desafio 8.ipynb",
   "provenance": []
  },
  "kernelspec": {
   "display_name": "Python 3",
   "language": "python",
   "name": "python3"
  },
  "language_info": {
   "codemirror_mode": {
    "name": "ipython",
    "version": 3
   },
   "file_extension": ".py",
   "mimetype": "text/x-python",
   "name": "python",
   "nbconvert_exporter": "python",
   "pygments_lexer": "ipython3",
   "version": "3.8.5"
  }
 },
 "nbformat": 4,
 "nbformat_minor": 4
}
