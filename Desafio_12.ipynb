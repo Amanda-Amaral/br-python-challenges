{
 "cells": [
  {
   "cell_type": "markdown",
   "metadata": {
    "colab_type": "text",
    "id": "view-in-github"
   },
   "source": [
    "![](https://i.imgur.com/YX6UATs.png)"
   ]
  },
  {
   "cell_type": "markdown",
   "metadata": {
    "colab_type": "text",
    "id": "AYHY2YXQf6J2"
   },
   "source": [
    "### Desafio 12\n",
    "\n",
    "Escreva uma função em Python para verificar a validade de uma senha.\n",
    "\n",
    "A senha deve ter:\n",
    "\n",
    "* Pelo menos 1 letra entre [a-z] e 1 letra entre [A-Z].\n",
    "* Pelo menos 1 número entre [0-9].\n",
    "* Pelo menos 1 caractere de [$ # @].\n",
    "* Comprimento mínimo de 6 caracteres.\n",
    "* Comprimento máximo de 16 caracteres.\n",
    "\n",
    "Entradas: \"12345678\", \"J3sus0\", \"#Te5t300\", \"J*90j12374\", \"Michheeul\", \"Monk3y6\"\n",
    "\n",
    "A saída deve ser a senha e um texto indicando se a senha é válida ou inválida:\n",
    "\n",
    "```\n",
    "\"1234\" - Senha inválida\n",
    "\"Qw#1234\" - Senha válida\n",
    "```"
   ]
  },
  {
   "cell_type": "code",
   "execution_count": 21,
   "metadata": {
    "colab": {},
    "colab_type": "code",
    "id": "UGgtGYGGf6J3"
   },
   "outputs": [],
   "source": [
    "import string\n",
    "def verif_senha(passwrd):\n",
    "    minu = string.ascii_lowercase\n",
    "    maiu = string.ascii_uppercase\n",
    "    num = string.digits\n",
    "    especiais = \"$#@\"\n",
    "    regras_caract = [minu,maiu,num,especiais]\n",
    "    \n",
    "    tam_min = 6\n",
    "    tam_max = 16\n",
    "    \n",
    "    errors = []\n",
    "    for regra in regras_caract:\n",
    "        check = [caract for caract in passwrd if caract in regra]\n",
    "        if len(check)==0: #se o check for igual a 0, quer dizer que nao cumpriu uma das regras da lista regras_caract\n",
    "            errors.append(f\"Erro na regra: {regra}\")\n",
    "    if len(passwrd)<tam_min: #checando se os tamanhos estao dentro do limite\n",
    "        errors.append(f\"Senha pequena, sua senha deve ter pelo menos {tam_min} digitos\")\n",
    "    if len(passwrd)>tam_max:\n",
    "        errors.append(f\"Senha grande, sua senha deve ter no maximo {tam_max} digitos\")\n",
    "    if len(errors)>0: #Se o errors contem algo, eh porque a senha apresentou problemas, ou seja >0\n",
    "        print(errors)\n",
    "        return \"Senha invalida\"\n",
    "    else:\n",
    "        return \"Senha valida\" #Depois de todas as verificacoes, a senha foi aprovada. Foi oq ficou no else depois de todos os testes c if\n",
    "    "
   ]
  },
  {
   "cell_type": "code",
   "execution_count": 24,
   "metadata": {},
   "outputs": [
    {
     "data": {
      "text/plain": [
       "'Senha valida'"
      ]
     },
     "execution_count": 24,
     "metadata": {},
     "output_type": "execute_result"
    }
   ],
   "source": [
    "verif_senha(\"3LoucaS#\")"
   ]
  },
  {
   "cell_type": "code",
   "execution_count": 25,
   "metadata": {},
   "outputs": [
    {
     "name": "stdout",
     "output_type": "stream",
     "text": [
      "['Erro na regra: 0123456789', 'Erro na regra: $#@', 'Senha pequena, sua senha deve ter pelo menos 6 digitos']\n"
     ]
    },
    {
     "data": {
      "text/plain": [
       "'Senha invalida'"
      ]
     },
     "execution_count": 25,
     "metadata": {},
     "output_type": "execute_result"
    }
   ],
   "source": [
    "verif_senha(\"Louca\")"
   ]
  },
  {
   "cell_type": "code",
   "execution_count": 28,
   "metadata": {},
   "outputs": [
    {
     "name": "stdout",
     "output_type": "stream",
     "text": [
      "['Erro na regra: $#@', 'Senha grande, sua senha deve ter no maximo 16 digitos']\n"
     ]
    },
    {
     "data": {
      "text/plain": [
       "'Senha invalida'"
      ]
     },
     "execution_count": 28,
     "metadata": {},
     "output_type": "execute_result"
    }
   ],
   "source": [
    "verif_senha(\"InterurbanoAimeudeuS1234%\")"
   ]
  },
  {
   "cell_type": "code",
   "execution_count": null,
   "metadata": {},
   "outputs": [],
   "source": []
  }
 ],
 "metadata": {
  "anaconda-cloud": {},
  "colab": {
   "include_colab_link": true,
   "name": "Desafio 12.ipynb",
   "provenance": []
  },
  "kernelspec": {
   "display_name": "Python 3",
   "language": "python",
   "name": "python3"
  },
  "language_info": {
   "codemirror_mode": {
    "name": "ipython",
    "version": 3
   },
   "file_extension": ".py",
   "mimetype": "text/x-python",
   "name": "python",
   "nbconvert_exporter": "python",
   "pygments_lexer": "ipython3",
   "version": "3.8.5"
  }
 },
 "nbformat": 4,
 "nbformat_minor": 4
}
